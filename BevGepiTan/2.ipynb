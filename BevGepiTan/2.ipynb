{
 "cells": [
  {
   "cell_type": "code",
   "execution_count": 16,
   "metadata": {
    "colab": {
     "base_uri": "https://localhost:8080/"
    },
    "id": "FKUI7UpjS1sw",
    "outputId": "49167ff1-4a55-4920-d153-f753d1ffe470"
   },
   "outputs": [],
   "source": [
    "import pandas as pd\n",
    "import streamlit as st\n",
    "# from google.colab import drive\n",
    "# drive.mount('/content/gdrive')\n",
    "# data = pd.read_excel('/content/gdrive/MyDrive/SpotifyRegression/datos_merged_1986_2023.xlsx')\n",
    "\n",
    "data = pd.read_excel('datos_merged_1986_2023.xlsx')\n"
   ]
  },
  {
   "cell_type": "code",
   "execution_count": 17,
   "metadata": {
    "id": "Tx2FLZqih-9A"
   },
   "outputs": [],
   "source": [
    "# Columns to keep\n",
    "columns_to_keep = ['popularity', 'danceability', 'year', 'valence', 'speechiness', 'loudness', 'energy', 'principal_artist_followers', 'album_total_tracks', 'acousticness']\n",
    "\n",
    "# Drop columns not present in the columns_to_keep list\n",
    "columns_to_drop = [col for col in data.columns if col not in columns_to_keep]\n",
    "data = data.drop(columns=columns_to_drop, axis=1)\n",
    "\n"
   ]
  },
  {
   "cell_type": "code",
   "execution_count": 18,
   "metadata": {
    "id": "o2mPHB0XmH4Y"
   },
   "outputs": [],
   "source": [
    "from sklearn.model_selection import train_test_split, GridSearchCV\n",
    "data.dropna(inplace=True)  # Dropping rows with missing values for simplicity\n",
    "\n",
    "# Separate features (X) and target variable (y)\n",
    "X = data.drop('energy', axis=1)  # Features\n",
    "y = data['energy']  # Target variable\n",
    "\n",
    "X_train, X_test, y_train, y_test = train_test_split(X, y, test_size=0.2, random_state=42)\n"
   ]
  },
  {
   "cell_type": "code",
   "execution_count": 19,
   "metadata": {},
   "outputs": [
    {
     "name": "stdout",
     "output_type": "stream",
     "text": [
      "R2 Score: 0.6755301812628983\n",
      "Mean Squared Error: 0.01367529446187096\n"
     ]
    }
   ],
   "source": [
    "from sklearn.linear_model import LinearRegression\n",
    "from sklearn.model_selection import train_test_split, GridSearchCV\n",
    "from sklearn.preprocessing import RobustScaler\n",
    "\n",
    "# Assuming 'X_train', 'X_test', 'y_train', 'y_test' are already defined from previous steps\n",
    "\n",
    "\n",
    "\n",
    "# Creating a Linear Regression model\n",
    "model = LinearRegression()\n",
    "\n",
    "# # Hyperparameter grid for GridSearchCV\n",
    "# param_grid = {\n",
    "#     'fit_intercept': [True, False],\n",
    "#     # Other hyperparameters can be added based on the available options\n",
    "# }\n",
    "\n",
    "# # Perform GridSearchCV for hyperparameter tuning\n",
    "# grid_search = GridSearchCV(model, param_grid, cv=5, scoring='r2')  # Change scoring as needed\n",
    "# grid_search.fit(X_train, y_train)\n",
    "model.fit(X_train, y_train)\n",
    "\n",
    "# Best parameters found by GridSearchCV\n",
    "# best_params = grid_search.best_params_\n",
    "# print(\"Best Parameters:\", best_params)\n",
    "\n",
    "# # Evaluate the model with the best parameters on the test set\n",
    "# best_model = grid_search.best_estimator_\n",
    "y_pred = model.predict(X_test)\n",
    "\n",
    "# Model Evaluation\n",
    "from sklearn.metrics import r2_score, mean_squared_error\n",
    "print(\"R2 Score:\", r2_score(y_test, y_pred))\n",
    "print(\"Mean Squared Error:\", mean_squared_error(y_test, y_pred))"
   ]
  },
  {
   "cell_type": "code",
   "execution_count": 20,
   "metadata": {},
   "outputs": [],
   "source": [
    "# from xgboost import XGBRegressor\n",
    "# from sklearn.model_selection import GridSearchCV\n",
    "\n",
    "# # Define a parameter grid to search through\n",
    "# param_grid = {\n",
    "#     'n_estimators': [100, 500, 1000],\n",
    "#     'learning_rate': [0.01, 0.1, 0.2],\n",
    "#     'max_depth': [3, 5, 7]\n",
    "# }\n",
    "\n",
    "# # Creating and training the XGBoost Regressor model\n",
    "# model = XGBRegressor(random_state=42)\n",
    "\n",
    "# grid_search = GridSearchCV(model, param_grid, cv=5, scoring='r2')\n",
    "# grid_search.fit(X_train, y_train)\n",
    "\n",
    "# best_params = grid_search.best_params_\n",
    "# print(\"Best Parameters:\", best_params)\n",
    "\n",
    "# best_model = grid_search.best_estimator_\n",
    "# y_pred = best_model.predict(X_test)\n",
    "\n",
    "# # Model Evaluation\n",
    "# print(\"Mean Squared Error:\", mean_squared_error(y_test, y_pred))\n",
    "# print(\"R2 Score:\", r2_score(y_test, y_pred))\n"
   ]
  },
  {
   "cell_type": "code",
   "execution_count": 22,
   "metadata": {},
   "outputs": [
    {
     "name": "stdout",
     "output_type": "stream",
     "text": [
      "Mean Squared Error: 0.009845547060985733\n",
      "R2 Score: 0.7663975076256907\n"
     ]
    }
   ],
   "source": [
    "from xgboost import XGBRegressor\n",
    "\n",
    "# Creating and training the XGBoost Regressor model\n",
    "model = XGBRegressor(n_estimators=1000, learning_rate=0.01, max_depth=7, random_state=42)\n",
    "model.fit(X_train, y_train)\n",
    "\n",
    "\n",
    "st.title('Danceability Predictor')\n",
    "st.sidebar.header('User Input Features')\n",
    "input_data = {\n",
    "    'Popularity': st.sidebar.slider('Popularity', float(X['popularity'].min()), float(X['popularity'].max()), float(X['popularity'].mean())),\n",
    "    'Year': st.sidebar.slider('Year', int(X['year'].min()), int(X['year'].max()), int(X['year'].mean())),\n",
    "    # Add sliders for other features here\n",
    "}\n",
    "\n",
    "input_features = pd.DataFrame([input_data])\n",
    "\n",
    "def predict_danceability(input_df):\n",
    "    prediction = model.predict(input_df)\n",
    "    return prediction\n",
    "\n",
    "if st.sidebar.button('Predict'):\n",
    "    predicted_danceability = predict_danceability(input_features)\n",
    "    st.write('Predicted Danceability:', predicted_danceability)\n",
    "\n",
    "\n",
    "# Predicting on the test set\n",
    "y_pred = model.predict(X_test)\n",
    "\n",
    "print(\"Mean Squared Error:\", mean_squared_error(y_test, y_pred))\n",
    "print(\"R2 Score:\", r2_score(y_test, y_pred))\n",
    "\n"
   ]
  },
  {
   "cell_type": "code",
   "execution_count": null,
   "metadata": {},
   "outputs": [],
   "source": []
  }
 ],
 "metadata": {
  "colab": {
   "provenance": []
  },
  "kernelspec": {
   "display_name": "Python 3 (ipykernel)",
   "language": "python",
   "name": "python3"
  },
  "language_info": {
   "codemirror_mode": {
    "name": "ipython",
    "version": 3
   },
   "file_extension": ".py",
   "mimetype": "text/x-python",
   "name": "python",
   "nbconvert_exporter": "python",
   "pygments_lexer": "ipython3",
   "version": "3.10.12"
  }
 },
 "nbformat": 4,
 "nbformat_minor": 4
}
