{
 "cells": [
  {
   "cell_type": "code",
   "execution_count": null,
   "metadata": {},
   "outputs": [],
   "source": [
    "import pandas as pd\n",
    "\n",
    "# Read the Excel file\n",
    "data = pd.read_excel('datos_merged_1986_2023.xlsx')\n",
    "\n",
    "# Save as CSV file\n",
    "data.to_csv('datos_merged_1986_2023.csv', index=False)  # Change the file name if needed\n"
   ]
  }
 ],
 "metadata": {
  "language_info": {
   "name": "python"
  }
 },
 "nbformat": 4,
 "nbformat_minor": 2
}
